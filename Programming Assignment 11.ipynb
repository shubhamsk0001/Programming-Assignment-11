{
 "cells": [
  {
   "cell_type": "code",
   "execution_count": null,
   "id": "d488d3b0",
   "metadata": {},
   "outputs": [],
   "source": [
    "1. Write a Python program to find words which are greater than given length k?"
   ]
  },
  {
   "cell_type": "code",
   "execution_count": 5,
   "id": "837ecbf9",
   "metadata": {},
   "outputs": [
    {
     "name": "stdout",
     "output_type": "stream",
     "text": [
      "input the string=Python is a high level programming language\n",
      "Enter the length of the word=4\n",
      "words which are greater than given length4\n",
      "Python\n",
      "level\n",
      "programming\n",
      "language\n"
     ]
    }
   ],
   "source": [
    "a=input(\"input the string=\")\n",
    "k=int(input(\"Enter the length of the word=\"))\n",
    "b=a.split()\n",
    "print(f\"words which are greater than given length{k}\")\n",
    "for i in b:\n",
    "    if len(i)>k:\n",
    "        print(i)"
   ]
  },
  {
   "cell_type": "code",
   "execution_count": null,
   "id": "1399b98e",
   "metadata": {},
   "outputs": [],
   "source": [
    "2. Write a Python program for removing i-th character from a string?"
   ]
  },
  {
   "cell_type": "code",
   "execution_count": 14,
   "id": "5c0d26b9",
   "metadata": {},
   "outputs": [
    {
     "name": "stdout",
     "output_type": "stream",
     "text": [
      "input the string=Amoebea\n",
      "Enter the i-th of the word=4\n",
      "word after removing the i-th of the word=Amoeea\n"
     ]
    }
   ],
   "source": [
    "string=input(\"input the string=\")\n",
    "i=int(input(\"Enter the i-th of the word=\"))\n",
    "a = string[: i]\n",
    "b = string[i + 1:]\n",
    "c=a+b\n",
    "print(f\"word after removing the i-th of the word={c}\")"
   ]
  },
  {
   "cell_type": "code",
   "execution_count": null,
   "id": "29699a69",
   "metadata": {},
   "outputs": [],
   "source": [
    "3. Write a Python program to split and join a string?"
   ]
  },
  {
   "cell_type": "code",
   "execution_count": 6,
   "id": "0ec1852b",
   "metadata": {},
   "outputs": [
    {
     "name": "stdout",
     "output_type": "stream",
     "text": [
      "input the string=My third program of string in python\n",
      "to split ['My', 'third', 'program', 'of', 'string', 'in', 'python']\n",
      "to join a string= My third program of string in python\n"
     ]
    }
   ],
   "source": [
    "a=input(\"input the string=\")\n",
    "print(\"to split\",(a.split()))\n",
    "b=['My', 'third', 'program', 'of', 'string', 'in', 'python']\n",
    "s=\" \"\n",
    "s=s.join(b)\n",
    "print(\"to join a string=\",s)"
   ]
  },
  {
   "cell_type": "code",
   "execution_count": null,
   "id": "4dade399",
   "metadata": {},
   "outputs": [],
   "source": [
    "4. Write a Python to check if a given string is binary string or not?"
   ]
  },
  {
   "cell_type": "code",
   "execution_count": 17,
   "id": "1d8a7d4d",
   "metadata": {},
   "outputs": [
    {
     "name": "stdout",
     "output_type": "stream",
     "text": [
      "input the string=100010101000\n",
      "Yes\n"
     ]
    }
   ],
   "source": [
    "string=(input(\"input the string=\"))\n",
    "if(string.count('0')+string.count('1')==len(string)):\n",
    "    print(\"Yes\")\n",
    "else:\n",
    "    print(\"No\")"
   ]
  },
  {
   "cell_type": "code",
   "execution_count": null,
   "id": "f0ea54c3",
   "metadata": {},
   "outputs": [],
   "source": [
    "5. Write a Python program to find uncommon words from two Strings?"
   ]
  },
  {
   "cell_type": "code",
   "execution_count": 18,
   "id": "3ee47249",
   "metadata": {},
   "outputs": [
    {
     "name": "stdout",
     "output_type": "stream",
     "text": [
      "input the first string=apple banana fruit\n",
      "input the second string=apple guava banana\n",
      "uncommon words from two Strings ['guava', 'fruit']\n"
     ]
    }
   ],
   "source": [
    "A=input(\"input the first string=\")\n",
    "B=input(\"input the second string=\")\n",
    "A=A.split()\n",
    "B=B.split()\n",
    "x=[]\n",
    "for i in A:\n",
    "    if i not in B:\n",
    "        x.append(i)\n",
    "for i in B:\n",
    "    if i not in A:\n",
    "        x.append(i)\n",
    "    x=list(set(x))\n",
    "print(\"uncommon words from two Strings\",x)"
   ]
  },
  {
   "cell_type": "code",
   "execution_count": null,
   "id": "c4597a5b",
   "metadata": {},
   "outputs": [],
   "source": [
    "6. Write a Python to find all duplicate characters in string?"
   ]
  },
  {
   "cell_type": "code",
   "execution_count": 26,
   "id": "cc5a8d5e",
   "metadata": {},
   "outputs": [
    {
     "name": "stdout",
     "output_type": "stream",
     "text": [
      "input the string=australia\n",
      "{'a'}\n"
     ]
    }
   ],
   "source": [
    "a=input(\"input the string=\")\n",
    "b=[]\n",
    "for i in a:\n",
    "    if a.count(i)>2:\n",
    "        b.append(i)\n",
    "print(set(b))"
   ]
  },
  {
   "cell_type": "code",
   "execution_count": null,
   "id": "dd7be0d8",
   "metadata": {},
   "outputs": [],
   "source": [
    "7. Write a Python Program to check if a string contains any special character?"
   ]
  },
  {
   "cell_type": "code",
   "execution_count": 40,
   "id": "1f6c31e6",
   "metadata": {},
   "outputs": [
    {
     "name": "stdout",
     "output_type": "stream",
     "text": [
      "input the string=hygtu#t$yu\n",
      " string contains a special character\n"
     ]
    }
   ],
   "source": [
    "a=input(\"input the string=\")\n",
    "c=0\n",
    "for i in range (len(a)):\n",
    "    if a[i].isalpha():\n",
    "        continue\n",
    "    elif a[i].isdigit():\n",
    "        continue\n",
    "    else:\n",
    "        c=c+1\n",
    "        break\n",
    "if c==1:\n",
    "    print(\" string contains a special character\")\n",
    "else:\n",
    "    print(\" string does not contains any special character\")"
   ]
  }
 ],
 "metadata": {
  "kernelspec": {
   "display_name": "Python 3 (ipykernel)",
   "language": "python",
   "name": "python3"
  },
  "language_info": {
   "codemirror_mode": {
    "name": "ipython",
    "version": 3
   },
   "file_extension": ".py",
   "mimetype": "text/x-python",
   "name": "python",
   "nbconvert_exporter": "python",
   "pygments_lexer": "ipython3",
   "version": "3.9.12"
  }
 },
 "nbformat": 4,
 "nbformat_minor": 5
}
